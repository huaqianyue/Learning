{
 "cells": [
  {
   "cell_type": "markdown",
   "metadata": {},
   "source": [
    "#### 嵌套函数中的非局部变量\n",
    "在进入闭包之前，我们必须先了解一个嵌套函数和非局部变量。\n",
    "在函数中定义另一个函数称为嵌套函数。嵌套函数可以访问包围范围内的变量。"
   ]
  },
  {
   "cell_type": "code",
   "execution_count": 4,
   "metadata": {},
   "outputs": [
    {
     "name": "stdout",
     "output_type": "stream",
     "text": [
      "Hello\n"
     ]
    }
   ],
   "source": [
    "def print_msg(msg):\n",
    "# 这是外部封闭函数\n",
    "\n",
    "    def printer():\n",
    "# 这是嵌套函数\n",
    "        print(msg)\n",
    "\n",
    "    printer()\n",
    "\n",
    "# 调用这个函数\n",
    "print_msg(\"Hello\")"
   ]
  },
  {
   "cell_type": "markdown",
   "metadata": {},
   "source": [
    "可以看到嵌套函数printer()能够访问封闭函数的非局部变量msg。"
   ]
  },
  {
   "cell_type": "markdown",
   "metadata": {},
   "source": [
    "#### 定义闭包函数\n",
    "在上面的例子中，如果函数print_msg()的最后一行返回printer()函数而不是调用它，会发生什么？"
   ]
  },
  {
   "cell_type": "code",
   "execution_count": 1,
   "metadata": {},
   "outputs": [
    {
     "name": "stdout",
     "output_type": "stream",
     "text": [
      "Hello\n"
     ]
    }
   ],
   "source": [
    "def print_msg(msg):\n",
    "# 外部封闭函数\n",
    "\n",
    "    def printer():\n",
    "# 嵌套函数\n",
    "        print(msg)\n",
    "\n",
    "    return printer  # 返回嵌套函数\n",
    "\n",
    "\n",
    "another = print_msg(\"Hello\")\n",
    "another()"
   ]
  },
  {
   "cell_type": "markdown",
   "metadata": {},
   "source": [
    "这样是不寻常的。\n",
    "print_msg()函数使用字符串“Hello”进行调用，返回的函数被绑定到另一个名称。 在调用another()时，尽管我们已经完成了print_msg()函数的执行，但仍然记住了这个消息。\n",
    "一些数据(“Hello”)附加到代码中的这种技术在Python中称为闭包。\n",
    "即使变量超出范围或函数本身从当前命名空间中删除，也会记住封闭范围内的值。"
   ]
  },
  {
   "cell_type": "markdown",
   "metadata": {},
   "source": [
    "在Python中创建闭包必须满足的标准将在以下几点\n",
    "\n",
    "- 必须有一个嵌套函数(函数内部的函数)。\n",
    "- 嵌套函数必须引用封闭函数中定义的值。\n",
    "- 闭包函数必须返回嵌套函数。"
   ]
  },
  {
   "cell_type": "code",
   "execution_count": 2,
   "metadata": {},
   "outputs": [
    {
     "name": "stdout",
     "output_type": "stream",
     "text": [
      "Hello\n"
     ]
    }
   ],
   "source": [
    "del print_msg\n",
    "another()"
   ]
  },
  {
   "cell_type": "code",
   "execution_count": 3,
   "metadata": {},
   "outputs": [
    {
     "ename": "NameError",
     "evalue": "name 'print_msg' is not defined",
     "output_type": "error",
     "traceback": [
      "\u001b[0;31m---------------------------------------------------------------------------\u001b[0m",
      "\u001b[0;31mNameError\u001b[0m                                 Traceback (most recent call last)",
      "Cell \u001b[0;32mIn [3], line 1\u001b[0m\n\u001b[0;32m----> 1\u001b[0m print_msg(\u001b[39m\"\u001b[39m\u001b[39mHello\u001b[39m\u001b[39m\"\u001b[39m)\n",
      "\u001b[0;31mNameError\u001b[0m: name 'print_msg' is not defined"
     ]
    }
   ],
   "source": [
    "print_msg(\"Hello\")"
   ]
  },
  {
   "cell_type": "markdown",
   "metadata": {},
   "source": [
    "闭包可以避免使用全局值并提供某种形式的数据隐藏。它还可以提供面向对象的解决问题的解决方案。\n",
    "当在类中几乎没有方法(大多数情况下是一种方法)时，闭包可以提供一个替代的和更优雅的解决方案。 但是当属性和方法的数量变大时，最好去实现类。"
   ]
  },
  {
   "cell_type": "code",
   "execution_count": 7,
   "metadata": {},
   "outputs": [
    {
     "data": {
      "text/plain": [
       "'a'"
      ]
     },
     "execution_count": 7,
     "metadata": {},
     "output_type": "execute_result"
    }
   ],
   "source": [
    "class dog:\n",
    "    def __init__(self, name):\n",
    "        self.name = name\n",
    "    def name(self):\n",
    "        return self.name\n",
    "\n",
    "dog1 = dog('a')\n",
    "dog1.name"
   ]
  },
  {
   "cell_type": "code",
   "execution_count": 6,
   "metadata": {},
   "outputs": [
    {
     "name": "stdout",
     "output_type": "stream",
     "text": [
      "a\n"
     ]
    }
   ],
   "source": [
    "def dog_name(name):\n",
    "    def printer():\n",
    "    # 嵌套函数\n",
    "        print(name)\n",
    "\n",
    "    return printer  # 返回嵌套函数\n",
    "\n",
    "dog1_name = dog_name(\"a\")\n",
    "dog1_name()"
   ]
  },
  {
   "cell_type": "code",
   "execution_count": 1,
   "metadata": {},
   "outputs": [
    {
     "name": "stdout",
     "output_type": "stream",
     "text": [
      "Object `yield` not found.\n"
     ]
    }
   ],
   "source": [
    "?yield"
   ]
  },
  {
   "cell_type": "code",
   "execution_count": 2,
   "metadata": {},
   "outputs": [
    {
     "ename": "SyntaxError",
     "evalue": "cannot assign to literal (2104153456.py, line 1)",
     "output_type": "error",
     "traceback": [
      "\u001b[0;36m  Cell \u001b[0;32mIn [2], line 1\u001b[0;36m\u001b[0m\n\u001b[0;31m    0 = 0.0\u001b[0m\n\u001b[0m    ^\u001b[0m\n\u001b[0;31mSyntaxError\u001b[0m\u001b[0;31m:\u001b[0m cannot assign to literal\n"
     ]
    }
   ],
   "source": [
    "if 0 == 0.0"
   ]
  }
 ],
 "metadata": {
  "kernelspec": {
   "display_name": "Python 3.8.13 ('d2l')",
   "language": "python",
   "name": "python3"
  },
  "language_info": {
   "codemirror_mode": {
    "name": "ipython",
    "version": 3
   },
   "file_extension": ".py",
   "mimetype": "text/x-python",
   "name": "python",
   "nbconvert_exporter": "python",
   "pygments_lexer": "ipython3",
   "version": "3.8.13"
  },
  "orig_nbformat": 4,
  "vscode": {
   "interpreter": {
    "hash": "4894c1f8e1fe30e59394fb815789a2c0554cfe7bc1429184b9622a3825d7a532"
   }
  }
 },
 "nbformat": 4,
 "nbformat_minor": 2
}
