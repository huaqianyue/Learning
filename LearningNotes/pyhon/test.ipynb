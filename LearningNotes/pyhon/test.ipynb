{
 "cells": [
  {
   "cell_type": "code",
   "execution_count": 3,
   "metadata": {},
   "outputs": [
    {
     "data": {
      "text/plain": [
       "125000"
      ]
     },
     "execution_count": 3,
     "metadata": {},
     "output_type": "execute_result"
    }
   ],
   "source": [
    "money = '$125,000'\n",
    "int(\"\".join(list(filter(str.isdigit, money))))\n",
    "# filter(): 提取money中的数字\n",
    "# list(): 将filter()返回的迭代器转化为列表\n",
    "# \"\".join(): 将列表连接为字符串\n",
    "# int(): 将字符串转化为列表"
   ]
  },
  {
   "cell_type": "code",
   "execution_count": null,
   "metadata": {},
   "outputs": [],
   "source": []
  }
 ],
 "metadata": {
  "kernelspec": {
   "display_name": "Python 3.9.15 ('pytorch')",
   "language": "python",
   "name": "python3"
  },
  "language_info": {
   "codemirror_mode": {
    "name": "ipython",
    "version": 3
   },
   "file_extension": ".py",
   "mimetype": "text/x-python",
   "name": "python",
   "nbconvert_exporter": "python",
   "pygments_lexer": "ipython3",
   "version": "3.9.15"
  },
  "orig_nbformat": 4,
  "vscode": {
   "interpreter": {
    "hash": "9e07efb8f9d9f645fb1c4df5a6db598f81b57a2593b706a25dae049b09ec869e"
   }
  }
 },
 "nbformat": 4,
 "nbformat_minor": 2
}
