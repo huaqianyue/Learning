{
 "cells": [
  {
   "cell_type": "markdown",
   "metadata": {},
   "source": [
    "### 2.3 Python 语法基础\n",
    "#### 语言的语义\n",
    "Python的语言设计强调的是可读性、简洁和清晰。有些人称Python为“可执行的伪代码”\n",
    "#### 使用缩进而不是括号\n",
    "Python使用空白字符（tab和空格）来组织代码，而不是像其他语言那样使用括号。\n",
    "```\n",
    "for x in array:\n",
    "    if x < pivot:\n",
    "        less.append(x)\n",
    "    else:\n",
    "        greater.append(x)\n",
    "```\n",
    "冒号标志着缩进代码块的开始，冒号之后的所有代码的缩进量必须相同，直到代码块结束。  \n",
    "\n",
    "**注意**\n",
    "- 强烈建议使用四个空格作为默认的缩进。\n",
    "\n",
    "Python的语句不需要用分号结尾。但是，分号却可以用来给在同一行的语句切分：\n",
    "```\n",
    "a = 5; b = 6; c = 7;\n",
    "```\n",
    "Python不建议将多条语句放在同一行，这会降低代码的可读性。"
   ]
  },
  {
   "cell_type": "markdown",
   "metadata": {},
   "source": [
    "#### 万物皆对象\n",
    "Python语言的一个重要特性就是它的对象模型的一致性。每个数字、字符串、数据结构、函数、类、模块等等，都是在Python解释器的自有盒子内。它被认为是Python的对象。每个对象都有类型（例如字符串或函数）和内部数据。在实际中，这可以让语言非常灵活，因为函数也可以当作对象使用。\n",
    "#### 注释\n",
    "任何前面带有#的文本都会被Python解释器忽略。这通常被用来添加注释。有时，你会想排除一段代码，但并不删除。简便的方法就是将其注释掉。也可以在执行过的代码后面添加注释。\n",
    "#### 函数和对象方法调用\n",
    "你可以用圆括号调用函数，传递零个或几个参数，或者将返回值给一个变量。\n",
    "```\n",
    "result = f(x, y, z)\n",
    "g()\n",
    "```\n",
    "几乎Python中的每个对象都有附加的函数，称作方法，可以用来访问对象的内容。可以用下面的语句调用：\n",
    "```\n",
    "obj.some_method(x, y, z)\n",
    "```\n",
    "函数可以使用位置和关键词参数：\n",
    "```\n",
    "result = f(a, b, c, d=5, e='foo')\n",
    "```\n"
   ]
  },
  {
   "cell_type": "markdown",
   "metadata": {},
   "source": [
    "#### 变量和参数传递\n",
    "当在Python中创建变量（或名字），你就在等号右边创建了一个对这个变量的引用。"
   ]
  },
  {
   "cell_type": "code",
   "execution_count": 1,
   "metadata": {},
   "outputs": [],
   "source": [
    "a = [1, 2, 3]"
   ]
  },
  {
   "cell_type": "markdown",
   "metadata": {},
   "source": [
    "假设将a赋值给一个新变量b："
   ]
  },
  {
   "cell_type": "code",
   "execution_count": 3,
   "metadata": {},
   "outputs": [],
   "source": [
    "b = a"
   ]
  },
  {
   "cell_type": "markdown",
   "metadata": {},
   "source": [
    "在有些方法中，这个赋值会将数据[1, 2, 3]也复制。在Python中，a和b实际上是同一个对象，即原\n",
    "有列表[1, 2, 3]（见图2-7）。你可以在a中添加一个元素，然后检查b："
   ]
  }
 ],
 "metadata": {
  "kernelspec": {
   "display_name": "Python 3.8.13 ('d2l')",
   "language": "python",
   "name": "python3"
  },
  "language_info": {
   "codemirror_mode": {
    "name": "ipython",
    "version": 3
   },
   "file_extension": ".py",
   "mimetype": "text/x-python",
   "name": "python",
   "nbconvert_exporter": "python",
   "pygments_lexer": "ipython3",
   "version": "3.8.13"
  },
  "orig_nbformat": 4,
  "vscode": {
   "interpreter": {
    "hash": "4894c1f8e1fe30e59394fb815789a2c0554cfe7bc1429184b9622a3825d7a532"
   }
  }
 },
 "nbformat": 4,
 "nbformat_minor": 2
}
