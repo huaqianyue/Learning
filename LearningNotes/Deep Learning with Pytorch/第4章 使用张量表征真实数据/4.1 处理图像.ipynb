{
 "cells": [
  {
   "cell_type": "markdown",
   "metadata": {},
   "source": [
    "卷积神经网络的引入彻底改变了计算机视觉，基于图像的系统从此获得了一系列全新的能力。  \n",
    "通过使用成对的输入和期望的输出样本来训练端到端网络，那些需要高度调优算法构建块的复杂的流水线问题现在可以以前所未有的方式得到解决。  \n",
    "为了参与这场“革命”，我们需要以常见的图像格式加载图像，然后将数据转换为张量表示，其中图像的各个部分按照 PyTorch 期望的方式进行排列。"
   ]
  },
  {
   "cell_type": "code",
   "execution_count": 2,
   "metadata": {},
   "outputs": [],
   "source": [
    "import imageio\n"
   ]
  }
 ],
 "metadata": {
  "kernelspec": {
   "display_name": "Python 3.9.15 ('pytorch')",
   "language": "python",
   "name": "python3"
  },
  "language_info": {
   "codemirror_mode": {
    "name": "ipython",
    "version": 3
   },
   "file_extension": ".py",
   "mimetype": "text/x-python",
   "name": "python",
   "nbconvert_exporter": "python",
   "pygments_lexer": "ipython3",
   "version": "3.9.15"
  },
  "orig_nbformat": 4,
  "vscode": {
   "interpreter": {
    "hash": "9e07efb8f9d9f645fb1c4df5a6db598f81b57a2593b706a25dae049b09ec869e"
   }
  }
 },
 "nbformat": 4,
 "nbformat_minor": 2
}
