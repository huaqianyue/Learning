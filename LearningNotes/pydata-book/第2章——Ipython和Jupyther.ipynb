{
 "cells": [
  {
   "cell_type": "markdown",
   "metadata": {},
   "source": [
    "本书专注于Python数据处理的，对于一些Python的数据结构和库的特性难免不足。因此本书和第3章的内容只能够你学习本书后面的内容。  \n",
    "在我看来，没有必要为了数据分析而去精通Python。鼓励使用Ipython和Jupyter试验示例代码，并学习不同类型、函数和方法的文档。  \n",
    "记住常见的命令是学习曲线的一部分。  \n",
    "### 2.1 Python解释器\n",
    "Python是解释性语言。python解释器同一时间只能运行一个程序的一条语句。从事数据分析和科学计算的人却会使用IPython，一个强化的Python解释器，或Jupyter notebooks，一个网页代码笔记本，它原先是IPython的一个子项目。  \n",
    "IPython默认采用序号的格式 In [2]: ，与标准的 >>> 提示符不同。\n",
    "### 2.2 IPython基础\n",
    "#### 运行IPython Shell\n",
    "你可以用 `ipython` 在命令行打开IPython Shell，就像打开普通的Python解释器。\n",
    "```\n",
    "(d2l) huaqianyue@WMX_0121:~/Learning/LearningNotes$ ipython\n",
    "Python 3.8.13 (default, Mar 28 2022, 11:38:47) \n",
    "Type 'copyright', 'credits' or 'license' for more information\n",
    "IPython 8.5.0 -- An enhanced Interactive Python. Type '?' for help.\n",
    "```  \n",
    "你可以通过输入代码并按Return（或Enter），运行任意Python语句。当你只输入一个变量，它会\n",
    "显示代表的对象。  "
   ]
  },
  {
   "cell_type": "code",
   "execution_count": 5,
   "metadata": {},
   "outputs": [
    {
     "data": {
      "text/plain": [
       "5"
      ]
     },
     "execution_count": 5,
     "metadata": {},
     "output_type": "execute_result"
    }
   ],
   "source": [
    "a = 5\n",
    "a"
   ]
  },
  {
   "cell_type": "code",
   "execution_count": 6,
   "metadata": {},
   "outputs": [
    {
     "data": {
      "text/plain": [
       "{0: 0.5357718407724882,\n",
       " 1: -0.7859516495764864,\n",
       " 2: 0.5490514197103862,\n",
       " 3: -0.5703448239600539,\n",
       " 4: 1.38704608433361,\n",
       " 5: -0.5867813409496716,\n",
       " 6: -0.6858796538501614}"
      ]
     },
     "execution_count": 6,
     "metadata": {},
     "output_type": "execute_result"
    }
   ],
   "source": [
    "import numpy as np\n",
    "data = {i : np.random.randn() for i in range(7)}\n",
    "data"
   ]
  },
  {
   "cell_type": "markdown",
   "metadata": {},
   "source": [
    "前两行是Python代码语句；第二条语句创建一个名为 `data` 的变量，它引用一个新创建的Python字典。最后一行打印 `data` 的值。  \n",
    "许多Python对象被格式化为更易读的形式，或称作 **pretty-printed** ，它与普通的 print 不同。如果在标准Python解释器中打印上述 data 变量，则可读性要降低："
   ]
  },
  {
   "cell_type": "code",
   "execution_count": 7,
   "metadata": {},
   "outputs": [
    {
     "name": "stdout",
     "output_type": "stream",
     "text": [
      "{0: 0.5357718407724882, 1: -0.7859516495764864, 2: 0.5490514197103862, 3: -0.5703448239600539, 4: 1.38704608433361, 5: -0.5867813409496716, 6: -0.6858796538501614}\n"
     ]
    }
   ],
   "source": [
    "print(data)"
   ]
  },
  {
   "cell_type": "markdown",
   "metadata": {},
   "source": [
    "IPython还支持执行任意代码块（通过一个华丽的复制-粘贴方法）和整段Python脚本的功能。你也可以使用Jupyter notebook运行大代码块，接下来就会看到。"
   ]
  },
  {
   "cell_type": "markdown",
   "metadata": {},
   "source": [
    "#### 运行Jupyter Notebook\n",
    "notebook是Jupyter项目的重要组件之一，它是一个代码、文本（有标记或无标记）、数据可视化或其他输出的交互式文档。Jupter Notebook 需要与内核互动，内核是Jupyter与其他编程语言的交互式编程协议。Python的Jupyter内核是使用Ipython。要启用Jupyter，可以在命令行中输入jupyter notebook。在多数平台上，Jupyter会自动打开默认的浏览器（除非指定了 --no-browser ）。或者，可以在启动notebook之后，手动打开网页 http://localhost:8888/ 。  \n",
    "当保存notebook时，会创建一个后缀名为 .ipynb 的文件。这是一个自包含文件格式，包含当前笔记本中的所有内容（包括所有已评估的代码输出）。可以被其它Jupyter用户加载和编辑。要加载存在的notebook，把它放到启动notebook进程的相同目录内。  \n",
    "虽然Jupyter notebook和IPython shell使用起来不同，本章中几乎所有的命令和工具都可以通用。"
   ]
  },
  {
   "cell_type": "markdown",
   "metadata": {},
   "source": [
    "#### Tab补全\n",
    "从外观上，IPython shell和标准的Python解释器只是看起来不同。IPython shell的进步之一是具备其它IDE和交互计算分析环境都有的tab补全功能。在shell中输入表达式，按下Tab，会搜索已输入变量（对象、函数等等）的命名空间。\n",
    "```\n",
    "In [1]: an_apple = 27\n",
    "\n",
    "In [2]: an_example = 42\n",
    "\n",
    "In [3]: an<tab>\n",
    "           an_apple   an_example any()  \n",
    "```"
   ]
  },
  {
   "cell_type": "markdown",
   "metadata": {},
   "source": [
    "在这个例子中，IPython呈现出了之前两个定义的变量和Python的关键字和内建的函数 any 。当然，你也可以补全任何对象的方法和属性。 \n",
    "```\n",
    "In [3]: b = [1, 2, 3]\n",
    "\n",
    "In [4]: b.\n",
    "           append()  count()   insert()  reverse()\n",
    "           clear()   extend()  pop()     sort()   \n",
    "           copy()    index()   remove()  \n",
    "```\n",
    "\n",
    "在Jupyter notebook和新版的IPython（5.0及以上），自动补全功能是下拉框的形式。  \n",
    "\n",
    "**注意**  \n",
    "- 默认情况下，IPython会隐藏下划线开头的方法和属性，比如魔术方法和内部的“私有”方法和属性，以避免混乱的显示（和让新手迷惑！）这些也可以tab补全，但是你必须首先键入一个下划线才能看到它们。\n",
    "- 如果你喜欢总是在tab补全中看到这样的方法，你可以IPython配置中进行设置。可以在IPython文档中查找方法。\n",
    "\n",
    "除了补全命名、对象和模块属性，Tab还可以补全其它的。当输入看似文件路径时（即使是Python字符串），按下Tab也可以补全电脑上对应的文件信息。  \n",
    "结合 %run ，tab补全可以节省许多键盘操作。  \n",
    "另外，tab补全可以补全函数的关键词参数（包括等于号=）。"
   ]
  },
  {
   "cell_type": "markdown",
   "metadata": {},
   "source": [
    "#### 自省\n",
    "在变量前后使用问号？，可以显示对象的信息："
   ]
  },
  {
   "cell_type": "code",
   "execution_count": 8,
   "metadata": {},
   "outputs": [
    {
     "name": "stdout",
     "output_type": "stream",
     "text": [
      "\u001b[0;31mType:\u001b[0m        list\n",
      "\u001b[0;31mString form:\u001b[0m [1, 2, 3]\n",
      "\u001b[0;31mLength:\u001b[0m      3\n",
      "\u001b[0;31mDocstring:\u001b[0m  \n",
      "Built-in mutable sequence.\n",
      "\n",
      "If no argument is given, the constructor creates a new empty list.\n",
      "The argument must be an iterable if specified.\n"
     ]
    }
   ],
   "source": [
    "b = [1, 2, 3]\n",
    "?b"
   ]
  },
  {
   "cell_type": "code",
   "execution_count": 9,
   "metadata": {},
   "outputs": [
    {
     "name": "stdout",
     "output_type": "stream",
     "text": [
      "\u001b[0;31mDocstring:\u001b[0m\n",
      "print(value, ..., sep=' ', end='\\n', file=sys.stdout, flush=False)\n",
      "\n",
      "Prints the values to a stream, or to sys.stdout by default.\n",
      "Optional keyword arguments:\n",
      "file:  a file-like object (stream); defaults to the current sys.stdout.\n",
      "sep:   string inserted between values, default a space.\n",
      "end:   string appended after the last value, default a newline.\n",
      "flush: whether to forcibly flush the stream.\n",
      "\u001b[0;31mType:\u001b[0m      builtin_function_or_method\n"
     ]
    }
   ],
   "source": [
    "?print"
   ]
  },
  {
   "cell_type": "markdown",
   "metadata": {},
   "source": [
    "这可以作为对象的自省。如果对象是一个函数或实例方法，定义过的文档字符串，也会显示出信息。假设我们写了一个如下的函数："
   ]
  },
  {
   "cell_type": "code",
   "execution_count": 10,
   "metadata": {},
   "outputs": [],
   "source": [
    "def add_numbers(a, b):\n",
    "    \"\"\" \n",
    "    Add two numbers together\n",
    "\n",
    "    Returns\n",
    "    -------\n",
    "    the_sum : type of arguments\n",
    "    \n",
    "    \"\"\"\n",
    "    return a + b"
   ]
  },
  {
   "cell_type": "markdown",
   "metadata": {},
   "source": [
    "然后使用?符号，就可以显示如下文档字符串："
   ]
  },
  {
   "cell_type": "code",
   "execution_count": 11,
   "metadata": {},
   "outputs": [
    {
     "name": "stdout",
     "output_type": "stream",
     "text": [
      "\u001b[0;31mSignature:\u001b[0m \u001b[0madd_numbers\u001b[0m\u001b[0;34m(\u001b[0m\u001b[0ma\u001b[0m\u001b[0;34m,\u001b[0m \u001b[0mb\u001b[0m\u001b[0;34m)\u001b[0m\u001b[0;34m\u001b[0m\u001b[0;34m\u001b[0m\u001b[0m\n",
      "\u001b[0;31mDocstring:\u001b[0m\n",
      "Add two numbers together\n",
      "\n",
      "Returns\n",
      "-------\n",
      "the_sum : type of arguments\n",
      "\u001b[0;31mFile:\u001b[0m      /tmp/ipykernel_2829/3365903313.py\n",
      "\u001b[0;31mType:\u001b[0m      function\n"
     ]
    }
   ],
   "source": [
    "add_numbers?"
   ]
  },
  {
   "cell_type": "markdown",
   "metadata": {},
   "source": [
    "使用??可以显示函数的源码："
   ]
  },
  {
   "cell_type": "code",
   "execution_count": 12,
   "metadata": {},
   "outputs": [
    {
     "name": "stdout",
     "output_type": "stream",
     "text": [
      "\u001b[0;31mSignature:\u001b[0m \u001b[0madd_numbers\u001b[0m\u001b[0;34m(\u001b[0m\u001b[0ma\u001b[0m\u001b[0;34m,\u001b[0m \u001b[0mb\u001b[0m\u001b[0;34m)\u001b[0m\u001b[0;34m\u001b[0m\u001b[0;34m\u001b[0m\u001b[0m\n",
      "\u001b[0;31mSource:\u001b[0m   \n",
      "\u001b[0;32mdef\u001b[0m \u001b[0madd_numbers\u001b[0m\u001b[0;34m(\u001b[0m\u001b[0ma\u001b[0m\u001b[0;34m,\u001b[0m \u001b[0mb\u001b[0m\u001b[0;34m)\u001b[0m\u001b[0;34m:\u001b[0m\u001b[0;34m\u001b[0m\n",
      "\u001b[0;34m\u001b[0m    \u001b[0;34m\"\"\" \u001b[0m\n",
      "\u001b[0;34m    Add two numbers together\u001b[0m\n",
      "\u001b[0;34m\u001b[0m\n",
      "\u001b[0;34m    Returns\u001b[0m\n",
      "\u001b[0;34m    -------\u001b[0m\n",
      "\u001b[0;34m    the_sum : type of arguments\u001b[0m\n",
      "\u001b[0;34m    \u001b[0m\n",
      "\u001b[0;34m    \"\"\"\u001b[0m\u001b[0;34m\u001b[0m\n",
      "\u001b[0;34m\u001b[0m    \u001b[0;32mreturn\u001b[0m \u001b[0ma\u001b[0m \u001b[0;34m+\u001b[0m \u001b[0mb\u001b[0m\u001b[0;34m\u001b[0m\u001b[0;34m\u001b[0m\u001b[0m\n",
      "\u001b[0;31mFile:\u001b[0m      /tmp/ipykernel_2829/3365903313.py\n",
      "\u001b[0;31mType:\u001b[0m      function\n"
     ]
    }
   ],
   "source": [
    "add_numbers??"
   ]
  },
  {
   "cell_type": "markdown",
   "metadata": {},
   "source": [
    "问号还有一个用途，就是像Unix或Windows命令行一样搜索Ipython的命名空间。字符与通配符结合可以匹配所有的名字。例如，我们可以获得所有包含load的顶级NumPy命名空间："
   ]
  },
  {
   "cell_type": "code",
   "execution_count": 13,
   "metadata": {},
   "outputs": [
    {
     "name": "stdout",
     "output_type": "stream",
     "text": [
      "np.__loader__\n",
      "np.load\n",
      "np.loads\n",
      "np.loadtxt"
     ]
    }
   ],
   "source": [
    "np.*load*?"
   ]
  },
  {
   "cell_type": "markdown",
   "metadata": {},
   "source": [
    "#### %run命令\n",
    "你可以用 %run 命令运行所有的Python程序。假设有一个文件 ipython_script_test.py ："
   ]
  },
  {
   "cell_type": "code",
   "execution_count": 14,
   "metadata": {},
   "outputs": [],
   "source": [
    "%run ipython_script_test.py"
   ]
  },
  {
   "cell_type": "markdown",
   "metadata": {},
   "source": [
    "这段脚本运行在空的命名空间（没有import和其它定义的变量），因此结果和普通的运行方式 python script.py 相同。文件中所有定义的变量（import、函数和全局变量，除非抛出异常），都可以在IPython shell中随后访问："
   ]
  },
  {
   "cell_type": "code",
   "execution_count": 15,
   "metadata": {},
   "outputs": [
    {
     "data": {
      "text/plain": [
       "(7.5, 1.4666666666666666)"
      ]
     },
     "execution_count": 15,
     "metadata": {},
     "output_type": "execute_result"
    }
   ],
   "source": [
    "c, result"
   ]
  },
  {
   "cell_type": "markdown",
   "metadata": {},
   "source": [
    "如果一个Python脚本需要命令行参数（在 sys.argv 中查找），可以在文件路径之后传递，就像在命令行上运行一样。\n",
    "- 如果想让一个脚本访问IPython已经定义过的变量，可以使用 %run -i 。\n",
    "在Jupyter notebook中，你也可以使用 %load ，它将脚本导入到一个代码格中："
   ]
  },
  {
   "cell_type": "code",
   "execution_count": 16,
   "metadata": {},
   "outputs": [],
   "source": [
    "# %load ipython_script_test.py\n",
    "def f(x, y, z):\n",
    "    return (x + y) / z\n",
    "a = 5\n",
    "b = 6\n",
    "c = 7.5\n",
    "result = f(a, b, c)"
   ]
  },
  {
   "cell_type": "markdown",
   "metadata": {},
   "source": [
    "#### 中断运行的代码\n",
    "代码运行时按`Ctrl-C`，无论是`%run`或长时间运行命令，都会导致 KeyboardInterrupt 。这会导致几乎所有Python程序立即停止，除非一些特殊情况。 \n",
    " \n",
    "**警告**\n",
    "- 当Python代码调用了一些编译的扩展模块，按Ctrl-C不一定将执行的程序立即停止。在这种情况下，你必须等待，直到控制返回Python解释器，或者在更糟糕的情况下强制终止Python进程。\n"
   ]
  },
  {
   "cell_type": "markdown",
   "metadata": {},
   "source": [
    "#### 从剪贴板执行程序\n",
    "如果使用Jupyter notebook，你可以将代码复制粘贴到任意代码格执行。  \n",
    "在IPython shell中也可以从剪贴板执行。假设在其它应用中复制了如下代码：\n",
    "```\n",
    "x = 5\n",
    "y = 7\n",
    "if x > 5:\n",
    "    x += 1\n",
    "    y = 8\n",
    "```\n",
    "最简单的方法是使用 %paste 和 %cpaste 函数。 %paste 可以直接运行剪贴板中的代码：\n",
    "```\n",
    "In [17]: %paste\n",
    "x = 5\n",
    "y = 7\n",
    "if x > 5:\n",
    "    x += 1\n",
    "    y = 8\n",
    "## -- End pasted text --\n",
    "```\n",
    "%cpaste 功能类似，但会给出一条提示：\n",
    "```\n",
    "In [18]: %cpaste\n",
    "Pasting code; enter '--' alone on the line to stop or use Ctrl-D.\n",
    ":x = 5\n",
    ":y = 7\n",
    ":if x > 5:\n",
    ":   x += 1\n",
    ":   y = 8\n",
    ":--\n",
    "```\n",
    "使用 %cpaste ，你可以粘贴任意多的代码再运行。你可能想在运行前，先看看代码。如果粘贴了\n",
    "错误的代码，可以用Ctrl-C中断。"
   ]
  },
  {
   "cell_type": "markdown",
   "metadata": {},
   "source": [
    "#### 键盘快捷键\n",
    "IPython有许多键盘快捷键进行导航提示（类似Emacs文本编辑器或UNIX bash Shell）和交互shell的历史命令。  \n",
    "|快捷键          |说明                          |\n",
    "|---------------|------------------------------|\n",
    "|Ctrl-P         |用当前输入的文本搜索之前的命令|\n",
    "|Ctrl-N         |用当前输入的文本搜索之后的命令|\n",
    "|Ctrl-R         |Readline方式翻转历史搜索|\n",
    "|Ctrl-Shift-V   |从剪贴板粘贴文本|\n",
    "|Ctrl-C         |中断运行的代码|\n",
    "|Ctrl-A         |将光标移动到一行的开头|\n",
    "|Ctrl-E         |将光标移动到一行的末尾|\n",
    "|Ctrl-K         |删除光标到行尾的文本|\n",
    "|Ctrl-U         |删除当前行的所有文本|\n",
    "|Ctrl-F         |光标向后移动一个字符|\n",
    "|Ctrl-B         |光标向前移动一个字符|\n",
    "|Ctrl-L         |清空屏幕|\n",
    "\n",
    "Jupyter notebooks有另外一套庞大的快捷键。因为它的快捷键比IPython的变化快，建议你参阅Jupyter notebook的帮助文档。"
   ]
  },
  {
   "cell_type": "markdown",
   "metadata": {},
   "source": [
    "#### 魔术命令\n",
    "IPython中特殊的命令（Python中没有）被称作“魔术”命令。这些命令可以使普通任务更便捷，更容易控制IPython系统。魔术命令是在指令前添加百分号%前缀。例如，可以用 %timeit （这个命令后面会详谈）测量任何Python语句，例如矩阵乘法，的执行时间："
   ]
  },
  {
   "cell_type": "code",
   "execution_count": 17,
   "metadata": {},
   "outputs": [
    {
     "name": "stdout",
     "output_type": "stream",
     "text": [
      "82.3 µs ± 12.1 µs per loop (mean ± std. dev. of 7 runs, 10,000 loops each)\n"
     ]
    }
   ],
   "source": [
    "a = np.random.randn(100, 100)\n",
    "%timeit np.dot(a, a)"
   ]
  },
  {
   "cell_type": "markdown",
   "metadata": {},
   "source": [
    "魔术命令可以被看做IPython中运行的命令行。许多魔术命令有“命令行”选项，可以通过？查看"
   ]
  },
  {
   "cell_type": "code",
   "execution_count": 18,
   "metadata": {},
   "outputs": [
    {
     "name": "stdout",
     "output_type": "stream",
     "text": [
      "\u001b[0;31mDocstring:\u001b[0m\n",
      "::\n",
      "\n",
      "  %debug [--breakpoint FILE:LINE] [statement [statement ...]]\n",
      "\n",
      "Activate the interactive debugger.\n",
      "\n",
      "This magic command support two ways of activating debugger.\n",
      "One is to activate debugger before executing code.  This way, you\n",
      "can set a break point, to step through the code from the point.\n",
      "You can use this mode by giving statements to execute and optionally\n",
      "a breakpoint.\n",
      "\n",
      "The other one is to activate debugger in post-mortem mode.  You can\n",
      "activate this mode simply running %debug without any argument.\n",
      "If an exception has just occurred, this lets you inspect its stack\n",
      "frames interactively.  Note that this will always work only on the last\n",
      "traceback that occurred, so you must call this quickly after an\n",
      "exception that you wish to inspect has fired, because if another one\n",
      "occurs, it clobbers the previous one.\n",
      "\n",
      "If you want IPython to automatically do this on every exception, see\n",
      "the %pdb magic for more details.\n",
      "\n",
      ".. versionchanged:: 7.3\n",
      "    When running code, user variables are no longer expanded,\n",
      "    the magic line is always left unmodified.\n",
      "\n",
      "positional arguments:\n",
      "  statement             Code to run in debugger. You can omit this in cell\n",
      "                        magic mode.\n",
      "\n",
      "optional arguments:\n",
      "  --breakpoint <FILE:LINE>, -b <FILE:LINE>\n",
      "                        Set break point at LINE in FILE.\n",
      "\u001b[0;31mFile:\u001b[0m      ~/miniconda3/envs/d2l/lib/python3.8/site-packages/IPython/core/magics/execution.py\n"
     ]
    }
   ],
   "source": [
    "%debug?"
   ]
  },
  {
   "cell_type": "markdown",
   "metadata": {},
   "source": [
    "魔术函数默认可以不用百分号，只要没有变量和函数名相同。这个特点被称为“自动魔术”，可以用 %automagic 打开或关闭。  \n",
    "一些魔术函数与Python函数很像，它的结果可以赋值给一个变量："
   ]
  },
  {
   "cell_type": "code",
   "execution_count": 19,
   "metadata": {},
   "outputs": [
    {
     "data": {
      "text/plain": [
       "'/home/huaqianyue/Learning/LearningNotes/pyhon/pydata-book'"
      ]
     },
     "execution_count": 19,
     "metadata": {},
     "output_type": "execute_result"
    }
   ],
   "source": [
    "%pwd\n",
    "foo = %pwd\n",
    "foo"
   ]
  },
  {
   "cell_type": "markdown",
   "metadata": {},
   "source": [
    "IPython的文档可以在shell中打开，我建议你用 %quickref 或 %magic 学习下所有特殊命令"
   ]
  },
  {
   "cell_type": "markdown",
   "metadata": {},
   "source": [
    "#### 集成Matplotlib\n",
    "IPython在分析计算领域能够流行的原因之一是它非常好的集成了数据可视化和其它用户界面库，比如matplotlib。不用担心以前没用过matplotlib，本书后面会详细介绍。 %matplotlib 魔术函数配置了IPython shell和Jupyter notebook中的matplotlib。这点很重要，其它创建的图不会出现（notebook）或获取session的控制，直到结束（shell）。  \n",
    "```\n",
    "In [1]: %matplotlib\n",
    "Using matplotlib backend: TkAgg\n",
    "```\n",
    "在Jupyter中，命令有所不同："
   ]
  },
  {
   "cell_type": "code",
   "execution_count": 20,
   "metadata": {},
   "outputs": [
    {
     "data": {
      "text/plain": [
       "[<matplotlib.lines.Line2D at 0x7ffa82c3e790>]"
      ]
     },
     "execution_count": 20,
     "metadata": {},
     "output_type": "execute_result"
    },
    {
     "data": {
      "image/png": "[encoded data removed]",
      "text/plain": [
       "<Figure size 640x480 with 1 Axes>"
      ]
     },
     "metadata": {},
     "output_type": "display_data"
    }
   ],
   "source": [
    "%matplotlib inline\n",
    "import matplotlib.pyplot as plt\n",
    "plt.plot(np.random.randn(50).cumsum())"
   ]
  }
 ],
 "metadata": {
  "kernelspec": {
   "display_name": "Python 3.8.13 ('d2l')",
   "language": "python",
   "name": "python3"
  },
  "language_info": {
   "codemirror_mode": {
    "name": "ipython",
    "version": 3
   },
   "file_extension": ".py",
   "mimetype": "text/x-python",
   "name": "python",
   "nbconvert_exporter": "python",
   "pygments_lexer": "ipython3",
   "version": "3.8.13"
  },
  "orig_nbformat": 4,
  "vscode": {
   "interpreter": {
    "hash": "4894c1f8e1fe30e59394fb815789a2c0554cfe7bc1429184b9622a3825d7a532"
   }
  }
 },
 "nbformat": 4,
 "nbformat_minor": 2
}
