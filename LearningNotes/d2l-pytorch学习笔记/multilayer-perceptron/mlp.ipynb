{
 "cells": [
  {
   "cell_type": "markdown",
   "metadata": {},
   "source": [
    "![多类分类器](../img/mlp1.png)"
   ]
  },
  {
   "cell_type": "markdown",
   "metadata": {},
   "source": [
    "![](../img/mlp2.png)\n",
    "\n",
    "输出层不需要激活函数，激活函数主要是用来避免层数的塌陷。\n",
    "\n",
    "一般来说把$m_1$设得稍微大一点，越大，模型越复杂，取决于输入的复杂度有多少，假设你觉得这个数据比较难的话，有两个选择：\n",
    "- 使用单隐藏层，把$m_1$设得稍微大一点，假设输入维度是128，那么$m_1$设为64，128，甚至256 \n",
    "- 把模型做的稍微深一点点，相对于单隐藏层来说，$m_1$会做的小一点，$m_2$比$m_1$小一点，以此类推。假设你的数据比较复杂，那么你的输入维度是比较高的，那么你的输出有可能为10类或者5类。我们最好是慢慢把维度压缩到5维，128-64-32-16-5，我们也可以在$m_1$稍微扩充一下，128-256，然后再慢慢压缩。$m_1$胖一点都没关系。但我们不会反过来，先压缩数据，再扩充，这样会损失很多信息\n"
   ]
  },
  {
   "cell_type": "markdown",
   "metadata": {},
   "source": [
    "没有太多科学可以讲，纯粹是靠手感。"
   ]
  }
 ],
 "metadata": {
  "kernelspec": {
   "display_name": "Python 3.8.2 64-bit",
   "language": "python",
   "name": "python3"
  },
  "language_info": {
   "name": "python",
   "version": "3.8.2"
  },
  "orig_nbformat": 4,
  "vscode": {
   "interpreter": {
    "hash": "916dbcbb3f70747c44a77c7bcd40155683ae19c65e1c03b4aa3499c5328201f1"
   }
  }
 },
 "nbformat": 4,
 "nbformat_minor": 2
}
