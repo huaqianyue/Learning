{
 "cells": [
  {
   "cell_type": "markdown",
   "metadata": {},
   "source": [
    "## 训练误差和泛化误差\n",
    "- 训练误差：模型在训练数据上的误差\n",
    "- 泛化误差：模型在新数据上的误差\n",
    "- 例子：根据模考成绩来预测未来考试分数\n",
    "    - 在过去的考试中表现很好（训练误差）不代表未来考试一定会很好（泛化误差）\n",
    "    - 学生A通过背书在模考中拿到很好的成绩\n",
    "    - 学生B知道答案背后的原因\n",
    "\n",
    "## 验证数据集和测试数据集\n",
    "- 验证数据集：一个用来评估模型好坏的数据集\n",
    "    - 例如拿出50%的训练数据\n",
    "    - 不要跟训练数据集混在一起（常犯错误）\n",
    "- 测试数据集：只用一次的数据集。例如：\n",
    "    - 未来的考试\n",
    "    - 我出价的房子的实际成交价\n",
    "    - 用在Kaggle私有排行榜的数据集"
   ]
  },
  {
   "cell_type": "markdown",
   "metadata": {},
   "source": [
    "## K-则交叉验证\n",
    "- 在没有足够多数据时使用（这是常态）\n",
    "- 算法\n",
    "    - 将训练数据分割成K块\n",
    "    - for i = 1, ..., k\n",
    "        - 使用第i块作为验证数据集，其余作为训练数据\n",
    "    - 报告K个验证集误差的平均\n",
    "- 常用：K=5或10"
   ]
  },
  {
   "cell_type": "markdown",
   "metadata": {},
   "source": [
    "## 总结\n",
    "- 训练数据集：训练模型参数\n",
    "- 验证数据集：选择模型超参数\n",
    "- 非大数据集上通常使用K-则交叉验证"
   ]
  },
  {
   "cell_type": "markdown",
   "metadata": {},
   "source": [
    "## 过拟合和欠拟合\n"
   ]
  }
 ],
 "metadata": {
  "kernelspec": {
   "display_name": "Python 3.8.2 64-bit",
   "language": "python",
   "name": "python3"
  },
  "language_info": {
   "name": "python",
   "version": "3.8.2"
  },
  "orig_nbformat": 4,
  "vscode": {
   "interpreter": {
    "hash": "916dbcbb3f70747c44a77c7bcd40155683ae19c65e1c03b4aa3499c5328201f1"
   }
  }
 },
 "nbformat": 4,
 "nbformat_minor": 2
}
